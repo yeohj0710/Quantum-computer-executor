{
 "cells": [
  {
   "cell_type": "markdown",
   "metadata": {},
   "source": [
    "# 1강: 양자 비트(Qubit)와 중첩(Superposition)\n",
    "\n",
    "여러분, 오늘은 **양자 비트(Qubit)**<wbr>와 **중첩(Superposition)**<wbr>에 대해 배워볼 거예요!\n",
    "\n",
    "### 비트가 뭐예요?\n",
    "\n",
    "우리 컴퓨터는 정보를 저장하고 처리할 때 **비트(Bit)**<wbr>라는 단위를 사용해요.  \n",
    "비트는 아주 작은 정보의 조각으로, `0` 아니면 `1`이라는 두 가지 상태만 가질 수 있답니다.\n",
    "\n",
    "하지만, 양자 컴퓨터의 비트는 조금 더 특별해요.  \n",
    "양자 비트는 `0`이면서 동시에 `1`일 수도 있어요!  \n",
    "이걸 **중첩(Superposition)** 상태라고 부른답니다.\n",
    "\n",
    "### 중첩 상태란?\n",
    "\n",
    "수학적으로 중첩 상태는 이렇게 표현돼요:\n",
    "```\n",
    "|ψ⟩ = a|0⟩ + b|1⟩\n",
    "```\n",
    "\n",
    "여기서 **a**와 **b**는 숫자예요. 이 숫자는 각 상태의 \"확률 크기\"를 나타내요.  \n",
    "그리고 중요한 규칙이 하나 있어요:\n",
    "- \\( |a|^2 + |b|^2 = 1 \\)\n",
    "\n",
    "이 공식은 \"확률의 합은 항상 1이어야 한다\"는 뜻이에요.  \n",
    "예를 들어, `|0⟩` 상태일 확률이 60%라면, `|1⟩` 상태일 확률은 40%여야겠죠?\n",
    "\n",
    "### Hadamard 게이트는 뭐예요?\n",
    "\n",
    "컴퓨터는 비트에 작업(연산)을 하면서 문제를 풀어요.  \n",
    "양자 컴퓨터에서도 비슷한 일이 벌어지는데, 그 작업을 해주는 도구가 바로 **게이트(Gate)**<wbr>예요.  \n",
    "오늘은 그중에서 **Hadamard 게이트**를 사용해볼 거예요.\n",
    "\n",
    "Hadamard 게이트는 아주 중요한 역할을 해요:\n",
    "- 양자 비트를 중첩 상태로 만들어 줍니다!\n"
   ]
  },
  {
   "cell_type": "markdown",
   "metadata": {},
   "source": [
    "### 왜 Hadamard 게이트가 필요할까요?\n",
    "\n",
    "Hadamard 게이트는 양자 비트를 `|0⟩` 상태에서 다음과 같은 중첩 상태로 바꿔줘요:\n",
    "```\n",
    "|ψ⟩ = (|0⟩ + |1⟩) / √2\n",
    "```\n",
    "\n",
    "이 상태에서는 양자 비트가 `0`일 확률과 `1`일 확률이 똑같아져요.  \n",
    "즉, **동시에 두 가지 상태가 되는 것**이죠!\n",
    "\n",
    "이게 왜 중요하냐면, 양자 컴퓨터가 여러 가지 계산을 한 번에 할 수 있는 비결이 바로 이 중첩 상태에 있거든요.  \n"
   ]
  },
  {
   "cell_type": "markdown",
   "metadata": {},
   "source": [
    "먼저, 양자 컴퓨터를 다루기 위해 필요한 라이브러리들을 설치해야 해요.\n",
    "\n",
    "설치를 마친 후, 양자 비트를 만들고 작업을 진행해볼 거예요.  \n",
    "아래 셀을 실행해서 앞으로의 강의들에 필요한 패키지를 먼저 설치해볼까요?"
   ]
  },
  {
   "cell_type": "code",
   "execution_count": null,
   "metadata": {},
   "outputs": [],
   "source": [
    "# 필요한 패키지 설치\n",
    "%pip install qiskit qiskit_aer matplotlib IPython"
   ]
  },
  {
   "cell_type": "markdown",
   "metadata": {},
   "source": [
    "설치가 완료되었으면 이제 실제 Qiskit으로 작업을 해볼게요!"
   ]
  },
  {
   "cell_type": "code",
   "execution_count": 5,
   "metadata": {},
   "outputs": [
    {
     "data": {
      "image/png": "[encoded data removed]",
      "text/plain": [
       "<Figure size 185.453x117.056 with 1 Axes>"
      ]
     },
     "execution_count": 5,
     "metadata": {},
     "output_type": "execute_result"
    }
   ],
   "source": [
    "from qiskit import QuantumCircuit, transpile\n",
    "from qiskit_aer import Aer\n",
    "from qiskit.visualization import plot_histogram\n",
    "import matplotlib.pyplot as plt\n",
    "\n",
    "# 시뮬레이터 설정\n",
    "simulator = Aer.get_backend(\"qasm_simulator\")\n",
    "\n",
    "# 1-qubit 양자 회로 생성\n",
    "qc = QuantumCircuit(1)\n",
    "\n",
    "# Hadamard 게이트 적용\n",
    "qc.h(0)\n",
    "\n",
    "# 회로 시각화\n",
    "qc.draw(\"mpl\")"
   ]
  },
  {
   "cell_type": "markdown",
   "metadata": {},
   "source": [
    "그림으로 보이는 이 회로는 Hadamard 게이트를 사용해서 중첩 상태를 만든 단일 Qubit 회로예요.\n",
    "\n",
    "지금까지 Hadamard 게이트로 중첩 상태를 생성한 방법을 배워보았습니다.\n",
    "\n",
    "2강에서는 더 복잡한 양자 연산을 배워보도록 할게요!"
   ]
  }
 ],
 "metadata": {
  "kernelspec": {
   "display_name": "Python 3",
   "language": "python",
   "name": "python3"
  },
  "language_info": {
   "codemirror_mode": {
    "name": "ipython",
    "version": 3
   },
   "file_extension": ".py",
   "mimetype": "text/x-python",
   "name": "python",
   "nbconvert_exporter": "python",
   "pygments_lexer": "ipython3",
   "version": "3.9.10"
  }
 },
 "nbformat": 4,
 "nbformat_minor": 2
}
