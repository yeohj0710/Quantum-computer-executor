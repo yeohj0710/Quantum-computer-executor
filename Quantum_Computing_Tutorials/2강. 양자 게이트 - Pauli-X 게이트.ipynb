{
 "cells": [
  {
   "cell_type": "markdown",
   "metadata": {},
   "source": [
    "# 2강: 양자 게이트 - Pauli-X 게이트\n",
    "\n",
    "이번 시간에는 **Pauli<wbr>-X 게이트**에 대해 배워볼 거예요!  \n",
    "이 게이트는 양자 컴퓨팅에서 아주 기본적인 역할을 한답니다.\n",
    "\n",
    "먼저, Pauli<wbr>-X 게이트가 무엇인지부터 알아볼게요."
   ]
  },
  {
   "cell_type": "markdown",
   "metadata": {},
   "source": [
    "### Pauli<wbr>-X 게이트란?\n",
    "\n",
    "Pauli<wbr>-X 게이트는 양자 컴퓨팅의 **기본 게이트** 중 하나예요.  \n",
    "이 게이트는 양자 비트의 상태를 뒤집는 역할을 합니다.  \n",
    "\n",
    "쉽게 말해서:\n",
    "- 상태가 `|0⟩`이면, Pauli-X 게이트를 적용한 후 `|1⟩`이 됩니다.\n",
    "- 상태가 `|1⟩`이면, Pauli-X 게이트를 적용한 후 `|0⟩`이 됩니다.\n",
    "\n",
    "클래식 컴퓨터의 **NOT 게이트**와 같은 역할을 한다고 보면 돼요!\n",
    "\n",
    "수학적으로는 이렇게 표현됩니다:\n",
    "```\n",
    "X |0⟩ = |1⟩\n",
    "X |1⟩ = |0⟩\n",
    "```\n",
    "\n",
    "그럼, 실제로 Qiskit에서 Pauli<wbr>-X 게이트를 적용해볼까요?"
   ]
  },
  {
   "cell_type": "code",
   "execution_count": 29,
   "metadata": {},
   "outputs": [
    {
     "data": {
      "image/png": "[encoded data removed]",
      "text/plain": [
       "<Figure size 185.453x117.056 with 1 Axes>"
      ]
     },
     "execution_count": 29,
     "metadata": {},
     "output_type": "execute_result"
    }
   ],
   "source": [
    "from qiskit import QuantumCircuit, transpile\n",
    "from qiskit_aer import Aer\n",
    "\n",
    "# 시뮬레이터 백엔드 초기화\n",
    "simulator = Aer.get_backend(\"qasm_simulator\")\n",
    "\n",
    "# 1-큐빗 양자 회로 생성\n",
    "qc = QuantumCircuit(1)\n",
    "\n",
    "# Pauli-X 게이트 적용\n",
    "qc.x(0)\n",
    "\n",
    "# 회로 시각화\n",
    "qc.draw(output=\"mpl\")"
   ]
  },
  {
   "cell_type": "markdown",
   "metadata": {},
   "source": [
    "### 측정을 추가해서 결과를 확인해요!\n",
    "\n",
    "Pauli<wbr>-X 게이트를 적용한 후 상태가 어떻게 변했는지 측정해 볼게요.  \n",
    "측정 결과를 통해 상태가 `|0⟩`에서 `|1⟩`로, 또는 그 반대로 변했는지 확인할 수 있답니다.\n"
   ]
  },
  {
   "cell_type": "code",
   "execution_count": 30,
   "metadata": {},
   "outputs": [
    {
     "name": "stdout",
     "output_type": "stream",
     "text": [
      "측정 결과: {'1': 1024}\n"
     ]
    },
    {
     "data": {
      "image/png": "[encoded data removed]",
      "text/plain": [
       "<IPython.core.display.Image object>"
      ]
     },
     "metadata": {},
     "output_type": "display_data"
    }
   ],
   "source": [
    "from qiskit.visualization import plot_histogram\n",
    "from matplotlib import rc\n",
    "from IPython.display import Image, display\n",
    "\n",
    "# 측정 추가\n",
    "qc.measure_all()\n",
    "\n",
    "# 회로 컴파일 및 시뮬레이션 실행\n",
    "compiled_circuit = transpile(qc, simulator)\n",
    "result = simulator.run(compiled_circuit).result()\n",
    "\n",
    "# 측정 결과 확인\n",
    "counts = result.get_counts()\n",
    "print(\"측정 결과:\", counts)\n",
    "\n",
    "fig = plot_histogram(counts)\n",
    "fig.savefig(\"images/2강. histogram_output.png\")\n",
    "display(Image(\"images/2강. histogram_output.png\"))"
   ]
  },
  {
   "cell_type": "markdown",
   "metadata": {},
   "source": [
    "## 결과 그래프 설명\n",
    "\n",
    "- **x축**: 측정된 결과를 의미합니다. 여기서 `1`은 큐빗이 |1⟩ 상태로 관측되었음을 나타내요.\n",
    "- **y축**: 측정 결과의 빈도를 의미합니다. 1024번의 실험 중 모두 큐빗이 |1⟩ 상태로 관측되었으므로, 값이 `1024`예요.\n",
    "- Pauli-X 게이트는 큐빗의 상태를 |0⟩에서 |1⟩로 변환해요. 따라서 측정 시 항상 |1⟩ 상태가 관찰되겠죠?\n",
    "- 이 그래프는 Pauli-X 게이트가 정상적으로 동작함을 보여줘요."
   ]
  },
  {
   "cell_type": "markdown",
   "metadata": {},
   "source": [
    "### 이번 강의를 정리해요\n",
    "\n",
    "Pauli<wbr>-X 게이트는 양자 비트의 상태를 뒤집는 역할을 합니다.  \n",
    "이 게이트를 활용하면 양자 회로에서 비트 플립(뒤집기) 연산을 구현할 수 있어요.\n",
    "\n",
    "다음 강의에서는 **다중 Qubit 게이트**를 배워볼 거예요!  \n",
    "그럼 3강에서 만나요! 😊\n"
   ]
  }
 ],
 "metadata": {
  "kernelspec": {
   "display_name": "Python 3",
   "language": "python",
   "name": "python3"
  },
  "language_info": {
   "codemirror_mode": {
    "name": "ipython",
    "version": 3
   },
   "file_extension": ".py",
   "mimetype": "text/x-python",
   "name": "python",
   "nbconvert_exporter": "python",
   "pygments_lexer": "ipython3",
   "version": "3.9.10"
  }
 },
 "nbformat": 4,
 "nbformat_minor": 2
}
