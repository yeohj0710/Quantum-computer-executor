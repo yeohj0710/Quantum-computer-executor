{
 "cells": [
  {
   "cell_type": "code",
   "execution_count": 1,
   "metadata": {},
   "outputs": [],
   "source": [
    "from qiskit import QuantumCircuit, transpile\n",
    "from qiskit_aer import Aer\n",
    "\n",
    "simulator = Aer.get_backend(\"qasm_simulator\")"
   ]
  },
  {
   "cell_type": "code",
   "execution_count": 2,
   "metadata": {},
   "outputs": [
    {
     "name": "stdout",
     "output_type": "stream",
     "text": [
      "Measurement Results: {'1': 501, '0': 523}\n"
     ]
    }
   ],
   "source": [
    "qc = QuantumCircuit(1)\n",
    "\n",
    "qc.h(0)\n",
    "\n",
    "qc.measure_all()\n",
    "\n",
    "compiled_circuit = transpile(qc, simulator)\n",
    "result = simulator.run(compiled_circuit).result()\n",
    "\n",
    "counts = result.get_counts()\n",
    "print(\"Measurement Results:\", counts)"
   ]
  }
 ],
 "metadata": {
  "kernelspec": {
   "display_name": "Python 3",
   "language": "python",
   "name": "python3"
  },
  "language_info": {
   "codemirror_mode": {
    "name": "ipython",
    "version": 3
   },
   "file_extension": ".py",
   "mimetype": "text/x-python",
   "name": "python",
   "nbconvert_exporter": "python",
   "pygments_lexer": "ipython3",
   "version": "3.9.10"
  }
 },
 "nbformat": 4,
 "nbformat_minor": 2
}
